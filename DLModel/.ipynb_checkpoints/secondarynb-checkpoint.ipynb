{
 "cells": [
  {
   "cell_type": "code",
   "execution_count": 1,
   "metadata": {},
   "outputs": [
    {
     "name": "stderr",
     "output_type": "stream",
     "text": [
      "C:\\Users\\user\\Anaconda3\\lib\\site-packages\\h5py\\__init__.py:36: FutureWarning: Conversion of the second argument of issubdtype from `float` to `np.floating` is deprecated. In future, it will be treated as `np.float64 == np.dtype(float).type`.\n",
      "  from ._conv import register_converters as _register_converters\n",
      "Using TensorFlow backend.\n"
     ]
    }
   ],
   "source": [
    "import numpy as np # linear algebra\n",
    "import pandas as pd # data processing, CSV file I/O (e.g. pd.read_csv)\n",
    "from sklearn.metrics import confusion_matrix\n",
    "import cv2 \n",
    "import glob\n",
    "import matplotlib.pyplot as plt\n",
    "import tensorflow as tf \n",
    "from keras import applications\n",
    "from keras.models import Model\n",
    "from keras import optimizers\n",
    "from keras.layers import Input, Dense, Activation, ZeroPadding2D, BatchNormalization, Flatten, Conv2D, Dropout,GlobalAveragePooling2D"
   ]
  },
  {
   "cell_type": "code",
   "execution_count": 2,
   "metadata": {},
   "outputs": [],
   "source": [
    "import os\n",
    "#print(os.listdir(\"../input/chest_xray/chest_xray/train/NORMAL\"))\n",
    "train_dir_normal = \"C:\\\\Users\\\\user\\\\Desktop\\\\Project Files\\\\DLModel\\\\chest_xray\\\\train\\\\NORMAL\\\\*.jpeg\"\n",
    "train_dir_pneumonia = \"C:\\\\Users\\\\user\\\\Desktop\\\\Project Files\\\\DLModel\\\\chest_xray\\\\train\\\\PNUEMONIA\\\\*.jpeg\"\n",
    "val_dir_normal = \"C:\\\\Users\\\\user\\\\Desktop\\\\Project Files\\\\DLModel\\\\chest_xray\\\\val\\\\NORMAL\\\\*.jpeg\"\n",
    "val_dir_pneumonia = \"C:\\\\Users\\\\user\\\\Desktop\\\\Project Files\\\\DLModel\\\\chest_xray\\\\val\\\\PNUEMONIA\\\\*.jpeg\"\n",
    "test_dir_normal = \"C:\\\\Users\\\\user\\\\Desktop\\\\Project Files\\\\DLModel\\\\chest_xray\\\\test\\\\NORMAL\\\\*.jpeg\"\n",
    "test_dir_pneumonia = \"C:\\\\Users\\\\user\\\\Desktop\\\\Project Files\\\\DLModel\\\\chest_xray\\\\test\\\\PNUEMONIA\\\\*.jpeg\"\n",
    "# Any results you write to the current directory are saved as output.\n",
    "%matplotlib inline"
   ]
  },
  {
   "cell_type": "code",
   "execution_count": 3,
   "metadata": {},
   "outputs": [],
   "source": [
    "def shuffle_in_unison(a,b):\n",
    "\tassert len(a) == len(b)\n",
    "\tp = np.random.permutation(len(a))\n",
    "\treturn a[p], b[p]"
   ]
  },
  {
   "cell_type": "code",
   "execution_count": 4,
   "metadata": {},
   "outputs": [],
   "source": [
    "def convert_to_one_hot(vec, num):\n",
    "    Y = np.eye(num)[vec.reshape(-1)].T\n",
    "    return Y"
   ]
  },
  {
   "cell_type": "code",
   "execution_count": null,
   "metadata": {},
   "outputs": [],
   "source": [
    "def load_data():\n",
    "    \"\"\"A function to load the whole dataset and the labels\"\"\"\n",
    "    train_data = []\n",
    "    val_data = []\n",
    "    test_data = []\n",
    "\n",
    "    train_labels = [] \n",
    "    val_labels = []\n",
    "    test_labels = []\n",
    "\n",
    "\n",
    "\n",
    "    \n",
    "    train_files_normal = glob.glob(train_dir_normal) \n",
    "    train_files_pneumonia = glob.glob(train_dir_pneumonia)\n",
    "    val_files_normal = glob.glob(val_dir_normal) \n",
    "    val_files_pneumonia = glob.glob(val_dir_pneumonia)\n",
    "\n",
    "    test_files_normal = glob.glob(test_dir_normal) \n",
    "    test_files_pneumonia = glob.glob(test_dir_pneumonia)\n",
    "\n",
    "\n",
    "\n",
    "\n",
    "    for num, file in enumerate(train_files_normal + train_files_pneumonia):\n",
    "        img = cv2.imread(file, 1) \n",
    "        img = cv2.resize(img, (150,150))\n",
    "        train_data.append(img)\n",
    "        if(num+1 <= 1341):\n",
    "            train_labels.append(0)\n",
    "        else:\n",
    "            train_labels.append(1)\n",
    "    \n",
    "    for num, file in enumerate(val_files_normal + val_files_pneumonia):\n",
    "        img = cv2.imread(file, 1)\n",
    "        img = cv2.resize(img, (150,150))\n",
    "        val_data.append(img)\n",
    "        if(num+1 <= 8):\n",
    "            val_labels.append(0)\n",
    "        else:\n",
    "            val_labels.append(1)\n",
    "    \n",
    "    for num, file in enumerate(test_files_normal + test_files_pneumonia):\n",
    "        img = cv2.imread(file, 1)\n",
    "        img = cv2.resize(img, (150,150))\n",
    "        test_data.append(img)\n",
    "        if(num+1 <= 234):\n",
    "            test_labels.append(0)\n",
    "        else:\n",
    "            test_labels.append(1)\n",
    "    \n",
    "    \n",
    "    X_train = np.array(train_data)\n",
    "    X_val  = np.array(val_data)\n",
    "    X_test = np.array(test_data)\n",
    "    \n",
    "    Y_train = np.array(train_labels)\n",
    "    Y_val = np.array(val_labels)\n",
    "    Y_test = np.array(test_labels) \n",
    "    \n",
    "    X_train, Y_train = shuffle_in_unison(X_train,Y_train)\n",
    "    X_val, Y_val = shuffle_in_unison(X_val,Y_val)\n",
    "    X_test, Y_test = shuffle_in_unison(X_test,Y_test)\n",
    "\n",
    "\n",
    "    \n",
    "    return X_train, Y_train, X_val, Y_val, X_test, Y_test "
   ]
  }
 ],
 "metadata": {
  "kernelspec": {
   "display_name": "Python 3",
   "language": "python",
   "name": "python3"
  },
  "language_info": {
   "codemirror_mode": {
    "name": "ipython",
    "version": 3
   },
   "file_extension": ".py",
   "mimetype": "text/x-python",
   "name": "python",
   "nbconvert_exporter": "python",
   "pygments_lexer": "ipython3",
   "version": "3.6.4"
  }
 },
 "nbformat": 4,
 "nbformat_minor": 2
}
